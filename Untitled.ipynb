{
 "cells": [
  {
   "cell_type": "code",
   "execution_count": 2,
   "id": "78101988",
   "metadata": {},
   "outputs": [],
   "source": [
    "import pandas as pd\n",
    "import numpy as np\n",
    "import os"
   ]
  },
  {
   "cell_type": "code",
   "execution_count": 6,
   "id": "e46e5a17",
   "metadata": {},
   "outputs": [],
   "source": [
    "l = \"Group/2015.csv\"\n",
    "o = \"Group/2016.csv\"\n",
    "a = \"Group/2017.csv\"\n",
    "d = \"Group/2018.csv\"\n",
    "csv = \"Group/2019.csv\""
   ]
  },
  {
   "cell_type": "code",
   "execution_count": null,
   "id": "df9e3180",
   "metadata": {},
   "outputs": [],
   "source": [
    "data1 = pd.read_csv(l)\n",
    "data2 = pd.read_csv(l)\n",
    "data3 = pd.read_csv(l)\n",
    "data4 = pd.read_csv(o)"
   ]
  }
 ],
 "metadata": {
  "kernelspec": {
   "display_name": "PythonData",
   "language": "python",
   "name": "pythondata"
  },
  "language_info": {
   "codemirror_mode": {
    "name": "ipython",
    "version": 3
   },
   "file_extension": ".py",
   "mimetype": "text/x-python",
   "name": "python",
   "nbconvert_exporter": "python",
   "pygments_lexer": "ipython3",
   "version": "3.7.13"
  }
 },
 "nbformat": 4,
 "nbformat_minor": 5
}
