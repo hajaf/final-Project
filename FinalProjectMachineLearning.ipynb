{
 "cells": [
  {
   "cell_type": "code",
   "execution_count": 1,
   "id": "1cef484a",
   "metadata": {},
   "outputs": [],
   "source": [
    "import numpy as np\n",
    "import pandas as pd\n",
    "import matplotlib.pyplot as plt\n",
    "from sklearn.preprocessing import OneHotEncoder"
   ]
  },
  {
   "cell_type": "code",
   "execution_count": 2,
   "id": "c2f2a37b",
   "metadata": {},
   "outputs": [],
   "source": [
    "clean2015 = pd.read_csv(\"https://raw.githubusercontent.com/hajaf/final-Project/Clarissa/cleaned_2015.csv\")"
   ]
  },
  {
   "cell_type": "code",
   "execution_count": 3,
   "id": "52e2d181",
   "metadata": {},
   "outputs": [],
   "source": [
    "clean2016 = pd.read_csv(\"https://raw.githubusercontent.com/hajaf/final-Project/Clarissa/cleaned_2016.csv\")"
   ]
  },
  {
   "cell_type": "code",
   "execution_count": 4,
   "id": "3d6ee7c1",
   "metadata": {},
   "outputs": [
    {
     "name": "stdout",
     "output_type": "stream",
     "text": [
      "         Country                           Region  Ranking  Score  Economy  \\\n",
      "0    Switzerland                   Western Europe        1  7.587    1.397   \n",
      "1        Iceland                   Western Europe        2  7.561    1.302   \n",
      "2        Denmark                   Western Europe        3  7.527    1.325   \n",
      "3         Norway                   Western Europe        4  7.522    1.459   \n",
      "4         Canada                    North America        5  7.427    1.326   \n",
      "..           ...                              ...      ...    ...      ...   \n",
      "146       Rwanda               Sub-Saharan Africa      154  3.465    0.222   \n",
      "147        Benin               Sub-Saharan Africa      155  3.340    0.287   \n",
      "148        Syria  Middle East and Northern Africa      156  3.006    0.663   \n",
      "149      Burundi               Sub-Saharan Africa      157  2.905    0.015   \n",
      "150         Togo               Sub-Saharan Africa      158  2.839    0.209   \n",
      "\n",
      "     Family  Health  Freedom    Trust  Generosity  Dystopia_Residual  \n",
      "0     1.350   0.941  0.66557  0.41978     0.29678            2.51738  \n",
      "1     1.402   0.948  0.62877  0.14145     0.43630            2.70201  \n",
      "2     1.361   0.875  0.64938  0.48357     0.34139            2.49204  \n",
      "3     1.331   0.885  0.66973  0.36503     0.34699            2.46531  \n",
      "4     1.323   0.906  0.63297  0.32957     0.45811            2.45176  \n",
      "..      ...     ...      ...      ...         ...                ...  \n",
      "146   0.774   0.429  0.59201  0.55191     0.22628            0.67042  \n",
      "147   0.354   0.319  0.48450  0.08010     0.18260            1.63328  \n",
      "148   0.475   0.722  0.15684  0.18906     0.47179            0.32858  \n",
      "149   0.416   0.224  0.11850  0.10062     0.19727            1.83302  \n",
      "150   0.140   0.284  0.36453  0.10731     0.16681            1.56726  \n",
      "\n",
      "[151 rows x 11 columns]\n"
     ]
    }
   ],
   "source": [
    "print(clean2015)"
   ]
  },
  {
   "cell_type": "code",
   "execution_count": 5,
   "id": "9c4c4166",
   "metadata": {},
   "outputs": [
    {
     "name": "stdout",
     "output_type": "stream",
     "text": [
      "         Country                           Region  Ranking  Score  Economy  \\\n",
      "0        Denmark                   Western Europe        1  7.526    1.442   \n",
      "1    Switzerland                   Western Europe        2  7.509    1.527   \n",
      "2        Iceland                   Western Europe        3  7.501    1.427   \n",
      "3         Norway                   Western Europe        4  7.498    1.577   \n",
      "4        Finland                   Western Europe        5  7.413    1.406   \n",
      "..           ...                              ...      ...    ...      ...   \n",
      "146        Benin               Sub-Saharan Africa      153  3.484    0.395   \n",
      "147  Afghanistan                    Southern Asia      154  3.360    0.382   \n",
      "148         Togo               Sub-Saharan Africa      155  3.303    0.281   \n",
      "149        Syria  Middle East and Northern Africa      156  3.069    0.747   \n",
      "150      Burundi               Sub-Saharan Africa      157  2.905    0.068   \n",
      "\n",
      "     Family  Health  Freedom    Trust  Generosity  Dystopia_Residual  \n",
      "0     1.164   0.795  0.57941  0.44453     0.36171            2.73939  \n",
      "1     1.145   0.863  0.58557  0.41203     0.28083            2.69463  \n",
      "2     1.183   0.867  0.56624  0.14975     0.47678            2.83137  \n",
      "3     1.127   0.796  0.59609  0.35776     0.37895            2.66465  \n",
      "4     1.135   0.811  0.57104  0.41004     0.25492            2.82596  \n",
      "..      ...     ...      ...      ...         ...                ...  \n",
      "146   0.104   0.210  0.39747  0.06681     0.20180            2.10812  \n",
      "147   0.110   0.173  0.16430  0.07112     0.31268            2.14558  \n",
      "148   0.000   0.248  0.34678  0.11587     0.17517            2.13540  \n",
      "149   0.149   0.630  0.06912  0.17233     0.48397            0.81789  \n",
      "150   0.234   0.157  0.04320  0.09419     0.20290            2.10404  \n",
      "\n",
      "[151 rows x 11 columns]\n"
     ]
    }
   ],
   "source": [
    "print(clean2016)"
   ]
  },
  {
   "cell_type": "code",
   "execution_count": 6,
   "id": "b920c7ba",
   "metadata": {},
   "outputs": [
    {
     "data": {
      "text/html": [
       "<div>\n",
       "<style scoped>\n",
       "    .dataframe tbody tr th:only-of-type {\n",
       "        vertical-align: middle;\n",
       "    }\n",
       "\n",
       "    .dataframe tbody tr th {\n",
       "        vertical-align: top;\n",
       "    }\n",
       "\n",
       "    .dataframe thead th {\n",
       "        text-align: right;\n",
       "    }\n",
       "</style>\n",
       "<table border=\"1\" class=\"dataframe\">\n",
       "  <thead>\n",
       "    <tr style=\"text-align: right;\">\n",
       "      <th></th>\n",
       "      <th>Country</th>\n",
       "      <th>Region</th>\n",
       "      <th>Ranking</th>\n",
       "      <th>Score</th>\n",
       "      <th>Economy</th>\n",
       "      <th>Family</th>\n",
       "      <th>Health</th>\n",
       "      <th>Freedom</th>\n",
       "      <th>Trust</th>\n",
       "      <th>Generosity</th>\n",
       "      <th>Dystopia_Residual</th>\n",
       "    </tr>\n",
       "  </thead>\n",
       "  <tbody>\n",
       "    <tr>\n",
       "      <th>146</th>\n",
       "      <td>Rwanda</td>\n",
       "      <td>Sub-Saharan Africa</td>\n",
       "      <td>154</td>\n",
       "      <td>3.465</td>\n",
       "      <td>0.222</td>\n",
       "      <td>0.774</td>\n",
       "      <td>0.429</td>\n",
       "      <td>0.59201</td>\n",
       "      <td>0.55191</td>\n",
       "      <td>0.22628</td>\n",
       "      <td>0.67042</td>\n",
       "    </tr>\n",
       "    <tr>\n",
       "      <th>147</th>\n",
       "      <td>Benin</td>\n",
       "      <td>Sub-Saharan Africa</td>\n",
       "      <td>155</td>\n",
       "      <td>3.340</td>\n",
       "      <td>0.287</td>\n",
       "      <td>0.354</td>\n",
       "      <td>0.319</td>\n",
       "      <td>0.48450</td>\n",
       "      <td>0.08010</td>\n",
       "      <td>0.18260</td>\n",
       "      <td>1.63328</td>\n",
       "    </tr>\n",
       "    <tr>\n",
       "      <th>148</th>\n",
       "      <td>Syria</td>\n",
       "      <td>Middle East and Northern Africa</td>\n",
       "      <td>156</td>\n",
       "      <td>3.006</td>\n",
       "      <td>0.663</td>\n",
       "      <td>0.475</td>\n",
       "      <td>0.722</td>\n",
       "      <td>0.15684</td>\n",
       "      <td>0.18906</td>\n",
       "      <td>0.47179</td>\n",
       "      <td>0.32858</td>\n",
       "    </tr>\n",
       "    <tr>\n",
       "      <th>149</th>\n",
       "      <td>Burundi</td>\n",
       "      <td>Sub-Saharan Africa</td>\n",
       "      <td>157</td>\n",
       "      <td>2.905</td>\n",
       "      <td>0.015</td>\n",
       "      <td>0.416</td>\n",
       "      <td>0.224</td>\n",
       "      <td>0.11850</td>\n",
       "      <td>0.10062</td>\n",
       "      <td>0.19727</td>\n",
       "      <td>1.83302</td>\n",
       "    </tr>\n",
       "    <tr>\n",
       "      <th>150</th>\n",
       "      <td>Togo</td>\n",
       "      <td>Sub-Saharan Africa</td>\n",
       "      <td>158</td>\n",
       "      <td>2.839</td>\n",
       "      <td>0.209</td>\n",
       "      <td>0.140</td>\n",
       "      <td>0.284</td>\n",
       "      <td>0.36453</td>\n",
       "      <td>0.10731</td>\n",
       "      <td>0.16681</td>\n",
       "      <td>1.56726</td>\n",
       "    </tr>\n",
       "  </tbody>\n",
       "</table>\n",
       "</div>"
      ],
      "text/plain": [
       "     Country                           Region  Ranking  Score  Economy  \\\n",
       "146   Rwanda               Sub-Saharan Africa      154  3.465    0.222   \n",
       "147    Benin               Sub-Saharan Africa      155  3.340    0.287   \n",
       "148    Syria  Middle East and Northern Africa      156  3.006    0.663   \n",
       "149  Burundi               Sub-Saharan Africa      157  2.905    0.015   \n",
       "150     Togo               Sub-Saharan Africa      158  2.839    0.209   \n",
       "\n",
       "     Family  Health  Freedom    Trust  Generosity  Dystopia_Residual  \n",
       "146   0.774   0.429  0.59201  0.55191     0.22628            0.67042  \n",
       "147   0.354   0.319  0.48450  0.08010     0.18260            1.63328  \n",
       "148   0.475   0.722  0.15684  0.18906     0.47179            0.32858  \n",
       "149   0.416   0.224  0.11850  0.10062     0.19727            1.83302  \n",
       "150   0.140   0.284  0.36453  0.10731     0.16681            1.56726  "
      ]
     },
     "execution_count": 6,
     "metadata": {},
     "output_type": "execute_result"
    }
   ],
   "source": [
    "clean2015.tail()"
   ]
  },
  {
   "cell_type": "code",
   "execution_count": 7,
   "id": "2eb44b8b",
   "metadata": {},
   "outputs": [
    {
     "data": {
      "text/html": [
       "<div>\n",
       "<style scoped>\n",
       "    .dataframe tbody tr th:only-of-type {\n",
       "        vertical-align: middle;\n",
       "    }\n",
       "\n",
       "    .dataframe tbody tr th {\n",
       "        vertical-align: top;\n",
       "    }\n",
       "\n",
       "    .dataframe thead th {\n",
       "        text-align: right;\n",
       "    }\n",
       "</style>\n",
       "<table border=\"1\" class=\"dataframe\">\n",
       "  <thead>\n",
       "    <tr style=\"text-align: right;\">\n",
       "      <th></th>\n",
       "      <th>Country</th>\n",
       "      <th>Region</th>\n",
       "      <th>Ranking</th>\n",
       "      <th>Score</th>\n",
       "      <th>Economy</th>\n",
       "      <th>Family</th>\n",
       "      <th>Health</th>\n",
       "      <th>Freedom</th>\n",
       "      <th>Trust</th>\n",
       "      <th>Generosity</th>\n",
       "      <th>Dystopia_Residual</th>\n",
       "    </tr>\n",
       "  </thead>\n",
       "  <tbody>\n",
       "    <tr>\n",
       "      <th>146</th>\n",
       "      <td>Benin</td>\n",
       "      <td>Sub-Saharan Africa</td>\n",
       "      <td>153</td>\n",
       "      <td>3.484</td>\n",
       "      <td>0.395</td>\n",
       "      <td>0.104</td>\n",
       "      <td>0.210</td>\n",
       "      <td>0.39747</td>\n",
       "      <td>0.06681</td>\n",
       "      <td>0.20180</td>\n",
       "      <td>2.10812</td>\n",
       "    </tr>\n",
       "    <tr>\n",
       "      <th>147</th>\n",
       "      <td>Afghanistan</td>\n",
       "      <td>Southern Asia</td>\n",
       "      <td>154</td>\n",
       "      <td>3.360</td>\n",
       "      <td>0.382</td>\n",
       "      <td>0.110</td>\n",
       "      <td>0.173</td>\n",
       "      <td>0.16430</td>\n",
       "      <td>0.07112</td>\n",
       "      <td>0.31268</td>\n",
       "      <td>2.14558</td>\n",
       "    </tr>\n",
       "    <tr>\n",
       "      <th>148</th>\n",
       "      <td>Togo</td>\n",
       "      <td>Sub-Saharan Africa</td>\n",
       "      <td>155</td>\n",
       "      <td>3.303</td>\n",
       "      <td>0.281</td>\n",
       "      <td>0.000</td>\n",
       "      <td>0.248</td>\n",
       "      <td>0.34678</td>\n",
       "      <td>0.11587</td>\n",
       "      <td>0.17517</td>\n",
       "      <td>2.13540</td>\n",
       "    </tr>\n",
       "    <tr>\n",
       "      <th>149</th>\n",
       "      <td>Syria</td>\n",
       "      <td>Middle East and Northern Africa</td>\n",
       "      <td>156</td>\n",
       "      <td>3.069</td>\n",
       "      <td>0.747</td>\n",
       "      <td>0.149</td>\n",
       "      <td>0.630</td>\n",
       "      <td>0.06912</td>\n",
       "      <td>0.17233</td>\n",
       "      <td>0.48397</td>\n",
       "      <td>0.81789</td>\n",
       "    </tr>\n",
       "    <tr>\n",
       "      <th>150</th>\n",
       "      <td>Burundi</td>\n",
       "      <td>Sub-Saharan Africa</td>\n",
       "      <td>157</td>\n",
       "      <td>2.905</td>\n",
       "      <td>0.068</td>\n",
       "      <td>0.234</td>\n",
       "      <td>0.157</td>\n",
       "      <td>0.04320</td>\n",
       "      <td>0.09419</td>\n",
       "      <td>0.20290</td>\n",
       "      <td>2.10404</td>\n",
       "    </tr>\n",
       "  </tbody>\n",
       "</table>\n",
       "</div>"
      ],
      "text/plain": [
       "         Country                           Region  Ranking  Score  Economy  \\\n",
       "146        Benin               Sub-Saharan Africa      153  3.484    0.395   \n",
       "147  Afghanistan                    Southern Asia      154  3.360    0.382   \n",
       "148         Togo               Sub-Saharan Africa      155  3.303    0.281   \n",
       "149        Syria  Middle East and Northern Africa      156  3.069    0.747   \n",
       "150      Burundi               Sub-Saharan Africa      157  2.905    0.068   \n",
       "\n",
       "     Family  Health  Freedom    Trust  Generosity  Dystopia_Residual  \n",
       "146   0.104   0.210  0.39747  0.06681     0.20180            2.10812  \n",
       "147   0.110   0.173  0.16430  0.07112     0.31268            2.14558  \n",
       "148   0.000   0.248  0.34678  0.11587     0.17517            2.13540  \n",
       "149   0.149   0.630  0.06912  0.17233     0.48397            0.81789  \n",
       "150   0.234   0.157  0.04320  0.09419     0.20290            2.10404  "
      ]
     },
     "execution_count": 7,
     "metadata": {},
     "output_type": "execute_result"
    }
   ],
   "source": [
    "clean2016.tail()"
   ]
  },
  {
   "cell_type": "code",
   "execution_count": 8,
   "id": "0f2994e6",
   "metadata": {},
   "outputs": [
    {
     "name": "stdout",
     "output_type": "stream",
     "text": [
      "<class 'pandas.core.frame.DataFrame'>\n",
      "RangeIndex: 151 entries, 0 to 150\n",
      "Data columns (total 11 columns):\n",
      " #   Column             Non-Null Count  Dtype  \n",
      "---  ------             --------------  -----  \n",
      " 0   Country            151 non-null    object \n",
      " 1   Region             151 non-null    object \n",
      " 2   Ranking            151 non-null    int64  \n",
      " 3   Score              151 non-null    float64\n",
      " 4   Economy            151 non-null    float64\n",
      " 5   Family             151 non-null    float64\n",
      " 6   Health             151 non-null    float64\n",
      " 7   Freedom            151 non-null    float64\n",
      " 8   Trust              151 non-null    float64\n",
      " 9   Generosity         151 non-null    float64\n",
      " 10  Dystopia_Residual  151 non-null    float64\n",
      "dtypes: float64(8), int64(1), object(2)\n",
      "memory usage: 13.1+ KB\n"
     ]
    }
   ],
   "source": [
    "clean2015.info()"
   ]
  },
  {
   "cell_type": "code",
   "execution_count": 9,
   "id": "488f76e1",
   "metadata": {},
   "outputs": [
    {
     "name": "stdout",
     "output_type": "stream",
     "text": [
      "<class 'pandas.core.frame.DataFrame'>\n",
      "RangeIndex: 151 entries, 0 to 150\n",
      "Data columns (total 11 columns):\n",
      " #   Column             Non-Null Count  Dtype  \n",
      "---  ------             --------------  -----  \n",
      " 0   Country            151 non-null    object \n",
      " 1   Region             151 non-null    object \n",
      " 2   Ranking            151 non-null    int64  \n",
      " 3   Score              151 non-null    float64\n",
      " 4   Economy            151 non-null    float64\n",
      " 5   Family             151 non-null    float64\n",
      " 6   Health             151 non-null    float64\n",
      " 7   Freedom            151 non-null    float64\n",
      " 8   Trust              151 non-null    float64\n",
      " 9   Generosity         151 non-null    float64\n",
      " 10  Dystopia_Residual  151 non-null    float64\n",
      "dtypes: float64(8), int64(1), object(2)\n",
      "memory usage: 13.1+ KB\n"
     ]
    }
   ],
   "source": [
    "clean2016.info()"
   ]
  },
  {
   "cell_type": "code",
   "execution_count": 10,
   "id": "c82efc47",
   "metadata": {},
   "outputs": [],
   "source": [
    "clean2015.drop([\"Region\", \"Country\", \"Ranking\", \"Generosity\", \"Dystopia_Residual\"], axis=1,inplace=True)"
   ]
  },
  {
   "cell_type": "code",
   "execution_count": 11,
   "id": "8fb77b00",
   "metadata": {},
   "outputs": [],
   "source": [
    "clean2016.drop([\"Region\", \"Country\", \"Ranking\", \"Generosity\", \"Dystopia_Residual\"], axis=1,inplace=True)"
   ]
  },
  {
   "cell_type": "code",
   "execution_count": 12,
   "id": "eb355dfd",
   "metadata": {},
   "outputs": [
    {
     "data": {
      "text/html": [
       "<div>\n",
       "<style scoped>\n",
       "    .dataframe tbody tr th:only-of-type {\n",
       "        vertical-align: middle;\n",
       "    }\n",
       "\n",
       "    .dataframe tbody tr th {\n",
       "        vertical-align: top;\n",
       "    }\n",
       "\n",
       "    .dataframe thead th {\n",
       "        text-align: right;\n",
       "    }\n",
       "</style>\n",
       "<table border=\"1\" class=\"dataframe\">\n",
       "  <thead>\n",
       "    <tr style=\"text-align: right;\">\n",
       "      <th></th>\n",
       "      <th>Score</th>\n",
       "      <th>Economy</th>\n",
       "      <th>Family</th>\n",
       "      <th>Health</th>\n",
       "      <th>Freedom</th>\n",
       "      <th>Trust</th>\n",
       "    </tr>\n",
       "  </thead>\n",
       "  <tbody>\n",
       "    <tr>\n",
       "      <th>0</th>\n",
       "      <td>7.587</td>\n",
       "      <td>1.397</td>\n",
       "      <td>1.350</td>\n",
       "      <td>0.941</td>\n",
       "      <td>0.66557</td>\n",
       "      <td>0.41978</td>\n",
       "    </tr>\n",
       "    <tr>\n",
       "      <th>1</th>\n",
       "      <td>7.561</td>\n",
       "      <td>1.302</td>\n",
       "      <td>1.402</td>\n",
       "      <td>0.948</td>\n",
       "      <td>0.62877</td>\n",
       "      <td>0.14145</td>\n",
       "    </tr>\n",
       "    <tr>\n",
       "      <th>2</th>\n",
       "      <td>7.527</td>\n",
       "      <td>1.325</td>\n",
       "      <td>1.361</td>\n",
       "      <td>0.875</td>\n",
       "      <td>0.64938</td>\n",
       "      <td>0.48357</td>\n",
       "    </tr>\n",
       "    <tr>\n",
       "      <th>3</th>\n",
       "      <td>7.522</td>\n",
       "      <td>1.459</td>\n",
       "      <td>1.331</td>\n",
       "      <td>0.885</td>\n",
       "      <td>0.66973</td>\n",
       "      <td>0.36503</td>\n",
       "    </tr>\n",
       "    <tr>\n",
       "      <th>4</th>\n",
       "      <td>7.427</td>\n",
       "      <td>1.326</td>\n",
       "      <td>1.323</td>\n",
       "      <td>0.906</td>\n",
       "      <td>0.63297</td>\n",
       "      <td>0.32957</td>\n",
       "    </tr>\n",
       "  </tbody>\n",
       "</table>\n",
       "</div>"
      ],
      "text/plain": [
       "   Score  Economy  Family  Health  Freedom    Trust\n",
       "0  7.587    1.397   1.350   0.941  0.66557  0.41978\n",
       "1  7.561    1.302   1.402   0.948  0.62877  0.14145\n",
       "2  7.527    1.325   1.361   0.875  0.64938  0.48357\n",
       "3  7.522    1.459   1.331   0.885  0.66973  0.36503\n",
       "4  7.427    1.326   1.323   0.906  0.63297  0.32957"
      ]
     },
     "execution_count": 12,
     "metadata": {},
     "output_type": "execute_result"
    }
   ],
   "source": [
    "clean2015.head()"
   ]
  },
  {
   "cell_type": "code",
   "execution_count": 13,
   "id": "34ec0f4f",
   "metadata": {},
   "outputs": [
    {
     "data": {
      "text/html": [
       "<div>\n",
       "<style scoped>\n",
       "    .dataframe tbody tr th:only-of-type {\n",
       "        vertical-align: middle;\n",
       "    }\n",
       "\n",
       "    .dataframe tbody tr th {\n",
       "        vertical-align: top;\n",
       "    }\n",
       "\n",
       "    .dataframe thead th {\n",
       "        text-align: right;\n",
       "    }\n",
       "</style>\n",
       "<table border=\"1\" class=\"dataframe\">\n",
       "  <thead>\n",
       "    <tr style=\"text-align: right;\">\n",
       "      <th></th>\n",
       "      <th>Score</th>\n",
       "      <th>Economy</th>\n",
       "      <th>Family</th>\n",
       "      <th>Health</th>\n",
       "      <th>Freedom</th>\n",
       "      <th>Trust</th>\n",
       "    </tr>\n",
       "  </thead>\n",
       "  <tbody>\n",
       "    <tr>\n",
       "      <th>0</th>\n",
       "      <td>7.526</td>\n",
       "      <td>1.442</td>\n",
       "      <td>1.164</td>\n",
       "      <td>0.795</td>\n",
       "      <td>0.57941</td>\n",
       "      <td>0.44453</td>\n",
       "    </tr>\n",
       "    <tr>\n",
       "      <th>1</th>\n",
       "      <td>7.509</td>\n",
       "      <td>1.527</td>\n",
       "      <td>1.145</td>\n",
       "      <td>0.863</td>\n",
       "      <td>0.58557</td>\n",
       "      <td>0.41203</td>\n",
       "    </tr>\n",
       "    <tr>\n",
       "      <th>2</th>\n",
       "      <td>7.501</td>\n",
       "      <td>1.427</td>\n",
       "      <td>1.183</td>\n",
       "      <td>0.867</td>\n",
       "      <td>0.56624</td>\n",
       "      <td>0.14975</td>\n",
       "    </tr>\n",
       "    <tr>\n",
       "      <th>3</th>\n",
       "      <td>7.498</td>\n",
       "      <td>1.577</td>\n",
       "      <td>1.127</td>\n",
       "      <td>0.796</td>\n",
       "      <td>0.59609</td>\n",
       "      <td>0.35776</td>\n",
       "    </tr>\n",
       "    <tr>\n",
       "      <th>4</th>\n",
       "      <td>7.413</td>\n",
       "      <td>1.406</td>\n",
       "      <td>1.135</td>\n",
       "      <td>0.811</td>\n",
       "      <td>0.57104</td>\n",
       "      <td>0.41004</td>\n",
       "    </tr>\n",
       "  </tbody>\n",
       "</table>\n",
       "</div>"
      ],
      "text/plain": [
       "   Score  Economy  Family  Health  Freedom    Trust\n",
       "0  7.526    1.442   1.164   0.795  0.57941  0.44453\n",
       "1  7.509    1.527   1.145   0.863  0.58557  0.41203\n",
       "2  7.501    1.427   1.183   0.867  0.56624  0.14975\n",
       "3  7.498    1.577   1.127   0.796  0.59609  0.35776\n",
       "4  7.413    1.406   1.135   0.811  0.57104  0.41004"
      ]
     },
     "execution_count": 13,
     "metadata": {},
     "output_type": "execute_result"
    }
   ],
   "source": [
    "clean2016.head()"
   ]
  },
  {
   "cell_type": "code",
   "execution_count": 14,
   "id": "1a7b2af0",
   "metadata": {},
   "outputs": [],
   "source": [
    "#Slicing the data \n",
    "x_clean2015 = clean2015.drop(columns=[\"Score\"]).values\n",
    "y_clean2015 = clean2015.Score.values"
   ]
  },
  {
   "cell_type": "code",
   "execution_count": 15,
   "id": "4225e0f3",
   "metadata": {},
   "outputs": [],
   "source": [
    "x_clean2016 = clean2016.drop(columns=[\"Score\"]).values\n",
    "y_clean2016 = clean2016.Score.values"
   ]
  },
  {
   "cell_type": "code",
   "execution_count": 16,
   "id": "820a09b3",
   "metadata": {},
   "outputs": [],
   "source": [
    "#train test split\n",
    "from sklearn.model_selection import train_test_split\n",
    "x_2015_train, x_2015_test, y_2015_train, y_2015_test = train_test_split(x_clean2015,y_clean2015, test_size=0.25, random_state=1)"
   ]
  },
  {
   "cell_type": "code",
   "execution_count": 17,
   "id": "2b996004",
   "metadata": {},
   "outputs": [],
   "source": [
    "#train test split\n",
    "from sklearn.model_selection import train_test_split\n",
    "x_2016_train, x_2016_test, y_2016_train, y_2016_test = train_test_split(x_clean2016,y_clean2016, test_size=0.25, random_state=1)"
   ]
  },
  {
   "cell_type": "code",
   "execution_count": 18,
   "id": "fad4343e",
   "metadata": {},
   "outputs": [
    {
     "data": {
      "text/plain": [
       "LinearRegression()"
      ]
     },
     "execution_count": 18,
     "metadata": {},
     "output_type": "execute_result"
    }
   ],
   "source": [
    "#linear regression\n",
    "from sklearn.linear_model import LinearRegression\n",
    "reg = LinearRegression()\n",
    "reg.fit(x_2015_train,y_2015_train)"
   ]
  },
  {
   "cell_type": "code",
   "execution_count": 19,
   "id": "ca7513a9",
   "metadata": {},
   "outputs": [
    {
     "name": "stdout",
     "output_type": "stream",
     "text": [
      "print accuracy: 0.761329924814806\n"
     ]
    }
   ],
   "source": [
    "#check accuracy\n",
    "print(\"print accuracy:\",reg.score(x_2015_test,y_2015_test))"
   ]
  },
  {
   "cell_type": "code",
   "execution_count": 20,
   "id": "642f916c",
   "metadata": {},
   "outputs": [
    {
     "data": {
      "text/plain": [
       "LinearRegression()"
      ]
     },
     "execution_count": 20,
     "metadata": {},
     "output_type": "execute_result"
    }
   ],
   "source": [
    "#linear regression\n",
    "from sklearn.linear_model import LinearRegression\n",
    "reg = LinearRegression()\n",
    "reg.fit(x_2016_train,y_2016_train)"
   ]
  },
  {
   "cell_type": "code",
   "execution_count": 21,
   "id": "41469a55",
   "metadata": {},
   "outputs": [
    {
     "name": "stdout",
     "output_type": "stream",
     "text": [
      "print accuracy: 0.7357528750143769\n"
     ]
    }
   ],
   "source": [
    "#check accuracy\n",
    "print(\"print accuracy:\",reg.score(x_2016_test,y_2016_test))\n",
    "#explain how the three columns we chose, score economy family health, has less of an effect on the happiness score when other factors would come in"
   ]
  },
  {
   "cell_type": "code",
   "execution_count": null,
   "id": "036d0926",
   "metadata": {},
   "outputs": [],
   "source": []
  }
 ],
 "metadata": {
  "kernelspec": {
   "display_name": "PythonData",
   "language": "python",
   "name": "pythondata"
  },
  "language_info": {
   "codemirror_mode": {
    "name": "ipython",
    "version": 3
   },
   "file_extension": ".py",
   "mimetype": "text/x-python",
   "name": "python",
   "nbconvert_exporter": "python",
   "pygments_lexer": "ipython3",
   "version": "3.7.13"
  }
 },
 "nbformat": 4,
 "nbformat_minor": 5
}
